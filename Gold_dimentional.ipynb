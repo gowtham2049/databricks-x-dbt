{
 "cells": [
  {
   "cell_type": "code",
   "execution_count": 0,
   "metadata": {
    "application/vnd.databricks.v1+cell": {
     "cellMetadata": {
      "byteLimit": 2048000,
      "rowLimit": 10000
     },
     "inputWidgets": {},
     "nuid": "33478a11-6e8a-467e-acf1-67aad58e1761",
     "showTitle": false,
     "tableResultSettingsMap": {},
     "title": ""
    }
   },
   "outputs": [],
   "source": [
    "from pyspark.sql.functions import * \n",
    "from pyspark.sql.types import *"
   ]
  },
  {
   "cell_type": "markdown",
   "metadata": {
    "application/vnd.databricks.v1+cell": {
     "cellMetadata": {
      "byteLimit": 2048000,
      "rowLimit": 10000
     },
     "inputWidgets": {},
     "nuid": "63ed2e07-e6aa-44bb-a979-71b72846ad61",
     "showTitle": false,
     "tableResultSettingsMap": {},
     "title": ""
    }
   },
   "source": [
    "\n",
    "# Catalog Name\n",
    "catalog = \"workspace\"\n",
    "\n",
    "# Key Cols List\n",
    "key_cols = \"['passenger_id']\"\n",
    "key_cols_list = eval(key_cols)\n",
    "\n",
    "# CDC Column\n",
    "cdc_col ='processed_time'\n",
    "\n",
    "# Backdated Refresh\n",
    "backdated_refreshdated_refresh = \"\"\n",
    "\n",
    "# Source Object\n",
    "source_object = \"silver_passenger\"\n",
    "\n",
    "# Source Schema\n",
    "source_schema = \"silver\"\n",
    "\n",
    "# Target Schema \n",
    "target_schema = \"gold\"\n",
    "\n",
    "# Target Object \n",
    "target_object = \"DimPassengers\"\n",
    "\n",
    "# Surrogate Key\n",
    "surrogate_key = \"DimPassengersKey\"\n",
    "\n",
    "print(key_cols_list)"
   ]
  },
  {
   "cell_type": "markdown",
   "metadata": {
    "application/vnd.databricks.v1+cell": {
     "cellMetadata": {
      "byteLimit": 2048000,
      "rowLimit": 10000
     },
     "inputWidgets": {},
     "nuid": "137c1021-4191-4909-a3c2-85e8889a5fb0",
     "showTitle": false,
     "tableResultSettingsMap": {},
     "title": ""
    }
   },
   "source": [
    "# Catalog Name\n",
    "catalog = \"workspace\"\n",
    "\n",
    "# Key Cols List\n",
    "key_cols = \"['flight_id']\"\n",
    "key_cols_list = eval(key_cols)\n",
    "\n",
    "# CDC Column\n",
    "cdc_col = \"processed_time\"\n",
    "\n",
    "# Backdated Refresh\n",
    "backdated_refresh = \"\"\n",
    "\n",
    "# Source Object\n",
    "source_object = \"silver_flight\"\n",
    "\n",
    "# Source Schema\n",
    "source_schema = \"silver\"\n",
    "\n",
    "# Target Schema \n",
    "target_schema = \"gold\"\n",
    "\n",
    "# Target Object \n",
    "target_object = \"DimFlights\"\n",
    "\n",
    "# Surrogate Key\n",
    "surrogate_key = \"DimFlightsKey\""
   ]
  },
  {
   "cell_type": "code",
   "execution_count": 0,
   "metadata": {
    "application/vnd.databricks.v1+cell": {
     "cellMetadata": {
      "byteLimit": 2048000,
      "rowLimit": 10000
     },
     "inputWidgets": {},
     "nuid": "01e3a7e2-30dd-451c-a427-135572535c53",
     "showTitle": false,
     "tableResultSettingsMap": {},
     "title": ""
    }
   },
   "outputs": [],
   "source": [
    "# Catalog Name\n",
    "catalog = \"workspace\"\n",
    "\n",
    "# Key Cols List\n",
    "key_cols = \"['airport_id']\"\n",
    "key_cols_list = eval(key_cols)\n",
    "\n",
    "# CDC Column\n",
    "cdc_col = \"processed_time\"\n",
    "\n",
    "# Backdated Refresh\n",
    "backdated_refresh = \"\"\n",
    "\n",
    "# Source Object\n",
    "source_object = \"silver_airport\"\n",
    "\n",
    "# Source Schema\n",
    "source_schema = \"silver\"\n",
    "\n",
    "# Target Schema \n",
    "target_schema = \"gold\"\n",
    "\n",
    "# Target Object \n",
    "target_object = \"DimAirports\"\n",
    "\n",
    "# Surrogate Key\n",
    "surrogate_key = \"DimAirportsKey\""
   ]
  },
  {
   "cell_type": "markdown",
   "metadata": {
    "application/vnd.databricks.v1+cell": {
     "cellMetadata": {
      "byteLimit": 2048000,
      "rowLimit": 10000
     },
     "inputWidgets": {},
     "nuid": "86a3c743-1eb3-4887-89a8-be6a56e4da48",
     "showTitle": false,
     "tableResultSettingsMap": {},
     "title": ""
    }
   },
   "source": [
    "#  Incremental Data"
   ]
  },
  {
   "cell_type": "code",
   "execution_count": 0,
   "metadata": {
    "application/vnd.databricks.v1+cell": {
     "cellMetadata": {
      "byteLimit": 2048000,
      "implicitDf": true,
      "rowLimit": 10000
     },
     "inputWidgets": {},
     "nuid": "d224b7d7-fa4e-45e3-a2d5-3810238241e4",
     "showTitle": false,
     "tableResultSettingsMap": {},
     "title": ""
    }
   },
   "outputs": [],
   "source": [
    "%sql\n",
    "select * from workspace.silver.silver_airport"
   ]
  },
  {
   "cell_type": "code",
   "execution_count": 0,
   "metadata": {
    "application/vnd.databricks.v1+cell": {
     "cellMetadata": {
      "byteLimit": 2048000,
      "implicitDf": true,
      "rowLimit": 10000
     },
     "inputWidgets": {},
     "nuid": "a77e5246-c2bd-41b1-9971-92da38215b9a",
     "showTitle": false,
     "tableResultSettingsMap": {},
     "title": ""
    }
   },
   "outputs": [],
   "source": [
    "spark.sql(f\"select max({cdc_col}) as lastloaded_time from workspace.{source_schema}.{source_object}\").collect()"
   ]
  },
  {
   "cell_type": "code",
   "execution_count": 0,
   "metadata": {
    "application/vnd.databricks.v1+cell": {
     "cellMetadata": {
      "byteLimit": 2048000,
      "rowLimit": 10000
     },
     "inputWidgets": {},
     "nuid": "99e443e9-ce75-4493-a829-69fc9a348288",
     "showTitle": false,
     "tableResultSettingsMap": {},
     "title": ""
    }
   },
   "outputs": [],
   "source": [
    "if len(backdated_refreshdated_refresh)==0:\n",
    "\n",
    "  if spark.catalog.tableExists(f\"workspace.{target_schema}.{target_object}\"):\n",
    "    last_loaded_date=spark.sql(f\"\"\"\n",
    "                              select max({cdc_col}) as lastloaded_time \n",
    "                              from workspace.{target_schema}.{target_object} \n",
    "                              \"\"\").collect()[0][0]\n",
    "  else:\n",
    "    last_loaded_date= \"1900-01-01 00:00:00\"\n",
    "else:\n",
    "  last_loaded_date=backdated_refreshdated_refresh"
   ]
  },
  {
   "cell_type": "code",
   "execution_count": 0,
   "metadata": {
    "application/vnd.databricks.v1+cell": {
     "cellMetadata": {
      "byteLimit": 2048000,
      "rowLimit": 10000
     },
     "inputWidgets": {},
     "nuid": "fbb0aa54-8959-4491-a5c8-62b16ac9b535",
     "showTitle": false,
     "tableResultSettingsMap": {},
     "title": ""
    }
   },
   "outputs": [],
   "source": [
    "print(last_loaded_date)\n"
   ]
  },
  {
   "cell_type": "code",
   "execution_count": 0,
   "metadata": {
    "application/vnd.databricks.v1+cell": {
     "cellMetadata": {
      "byteLimit": 2048000,
      "rowLimit": 10000
     },
     "inputWidgets": {},
     "nuid": "c209422c-f4a7-4d5b-b97d-5f60240a489d",
     "showTitle": false,
     "tableResultSettingsMap": {},
     "title": ""
    }
   },
   "outputs": [],
   "source": [
    "df_src=spark.sql(f\"\"\"\n",
    "                 select * from workspace.{source_schema}.{source_object}\n",
    "                 where {cdc_col}>'{last_loaded_date}'\n",
    "                 \"\"\")"
   ]
  },
  {
   "cell_type": "code",
   "execution_count": 0,
   "metadata": {
    "application/vnd.databricks.v1+cell": {
     "cellMetadata": {
      "byteLimit": 2048000,
      "rowLimit": 10000
     },
     "inputWidgets": {},
     "nuid": "cc8d23c3-502f-479a-9602-412cbc8fbcaa",
     "showTitle": false,
     "tableResultSettingsMap": {},
     "title": ""
    }
   },
   "outputs": [],
   "source": [
    "df_src.display()"
   ]
  },
  {
   "cell_type": "code",
   "execution_count": 0,
   "metadata": {
    "application/vnd.databricks.v1+cell": {
     "cellMetadata": {
      "byteLimit": 2048000,
      "rowLimit": 10000
     },
     "inputWidgets": {},
     "nuid": "b27b6290-1712-4799-b571-5ee63591835f",
     "showTitle": false,
     "tableResultSettingsMap": {},
     "title": ""
    }
   },
   "outputs": [],
   "source": [
    "if spark.catalog.tableExists(f\"workspace.{target_schema}.{target_object}\"):\n",
    "    key_col_incremental=\",\".join(key_cols_list)\n",
    "\n",
    "    df_trg=spark.sql(f\"\"\"\n",
    "                  select {key_col_incremental},{surrogate_key}, create_date, update_date \n",
    "                      FROM {catalog}.{target_schema}.{target_object}\n",
    "                  \"\"\")\n",
    "\n",
    "else:\n",
    "    key_cols_string_init = [f\"'' AS {i}\" for i in key_cols_list]\n",
    "    key_cols_string_init = \", \".join(key_cols_string_init)\n",
    "    df_trg=spark.sql(f\"\"\"\n",
    "                     select {key_cols_string_init}, CAST('0' AS INT) AS {surrogate_key}, CAST('1900-01-01 00:00:00' AS timestamp) AS          create_date, CAST('1900-01-01 00:00:00' AS timestamp) AS update_date WHERE 1=0\n",
    "                     \"\"\")"
   ]
  },
  {
   "cell_type": "code",
   "execution_count": 0,
   "metadata": {
    "application/vnd.databricks.v1+cell": {
     "cellMetadata": {
      "byteLimit": 2048000,
      "rowLimit": 10000
     },
     "inputWidgets": {},
     "nuid": "40ec2e01-72fe-471b-9dfa-9be6b63874c4",
     "showTitle": false,
     "tableResultSettingsMap": {},
     "title": ""
    }
   },
   "outputs": [],
   "source": [
    "df_trg.display()"
   ]
  },
  {
   "cell_type": "code",
   "execution_count": 0,
   "metadata": {
    "application/vnd.databricks.v1+cell": {
     "cellMetadata": {
      "byteLimit": 2048000,
      "rowLimit": 10000
     },
     "inputWidgets": {},
     "nuid": "f30bd9a2-a731-474d-bee7-6d2c9f8de43c",
     "showTitle": false,
     "tableResultSettingsMap": {},
     "title": ""
    }
   },
   "outputs": [],
   "source": [
    "df_src.createOrReplaceTempView(\"source\")\n",
    "df_trg.createOrReplaceTempView(\"target\")\n",
    "\n",
    "join_condition = ' AND '.join([f\"source.{i} = target.{i}\" for i in key_cols_list])\n",
    "\n",
    "df_join = spark.sql(f\"\"\"\n",
    "            SELECT source.*, \n",
    "                   target.{surrogate_key},\n",
    "                   target.create_date,\n",
    "                   target.update_date\n",
    "            FROM source\n",
    "            LEFT JOIN target\n",
    "            ON {join_condition}\n",
    "            \"\"\")"
   ]
  },
  {
   "cell_type": "code",
   "execution_count": 0,
   "metadata": {
    "application/vnd.databricks.v1+cell": {
     "cellMetadata": {
      "byteLimit": 2048000,
      "rowLimit": 10000
     },
     "inputWidgets": {},
     "nuid": "5728b777-ac4d-4254-993a-5a4a2d6df8c4",
     "showTitle": false,
     "tableResultSettingsMap": {},
     "title": ""
    }
   },
   "outputs": [],
   "source": [
    "df_join.display()"
   ]
  },
  {
   "cell_type": "code",
   "execution_count": 0,
   "metadata": {
    "application/vnd.databricks.v1+cell": {
     "cellMetadata": {
      "byteLimit": 2048000,
      "rowLimit": 10000
     },
     "inputWidgets": {},
     "nuid": "516733fc-6c3b-41ab-a199-e4159027c831",
     "showTitle": false,
     "tableResultSettingsMap": {},
     "title": ""
    }
   },
   "outputs": [],
   "source": [
    "# OLD RECORDS\n",
    "df_old = df_join.filter(col(f'{surrogate_key}').isNotNull())\n",
    "\n",
    "# NEW RECOERDS\n",
    "df_new = df_join.filter(col(f'{surrogate_key}').isNull())"
   ]
  },
  {
   "cell_type": "code",
   "execution_count": 0,
   "metadata": {
    "application/vnd.databricks.v1+cell": {
     "cellMetadata": {
      "byteLimit": 2048000,
      "rowLimit": 10000
     },
     "inputWidgets": {},
     "nuid": "0226bbf2-7383-4506-916c-eb4378dab7e1",
     "showTitle": false,
     "tableResultSettingsMap": {},
     "title": ""
    }
   },
   "outputs": [],
   "source": [
    "df_old.display()"
   ]
  },
  {
   "cell_type": "markdown",
   "metadata": {
    "application/vnd.databricks.v1+cell": {
     "cellMetadata": {
      "byteLimit": 2048000,
      "rowLimit": 10000
     },
     "inputWidgets": {},
     "nuid": "d2180cd5-6960-4278-9d53-a970f55733ef",
     "showTitle": false,
     "tableResultSettingsMap": {},
     "title": ""
    }
   },
   "source": []
  },
  {
   "cell_type": "markdown",
   "metadata": {
    "application/vnd.databricks.v1+cell": {
     "cellMetadata": {
      "byteLimit": 2048000,
      "rowLimit": 10000
     },
     "inputWidgets": {},
     "nuid": "92a3bd40-cc39-456f-868e-e90d233ad40c",
     "showTitle": false,
     "tableResultSettingsMap": {},
     "title": ""
    }
   },
   "source": [
    "# Preparing old records"
   ]
  },
  {
   "cell_type": "code",
   "execution_count": 0,
   "metadata": {
    "application/vnd.databricks.v1+cell": {
     "cellMetadata": {
      "byteLimit": 2048000,
      "rowLimit": 10000
     },
     "inputWidgets": {},
     "nuid": "caaed057-961f-481b-a29e-108054ff4f20",
     "showTitle": false,
     "tableResultSettingsMap": {},
     "title": ""
    }
   },
   "outputs": [],
   "source": [
    "df_old_enr = df_old.withColumn('update_date', current_timestamp())"
   ]
  },
  {
   "cell_type": "markdown",
   "metadata": {
    "application/vnd.databricks.v1+cell": {
     "cellMetadata": {
      "byteLimit": 2048000,
      "rowLimit": 10000
     },
     "inputWidgets": {},
     "nuid": "00b27097-a985-47f4-a472-83e2f426ec39",
     "showTitle": false,
     "tableResultSettingsMap": {},
     "title": ""
    }
   },
   "source": [
    "# New Records"
   ]
  },
  {
   "cell_type": "code",
   "execution_count": 0,
   "metadata": {
    "application/vnd.databricks.v1+cell": {
     "cellMetadata": {
      "byteLimit": 2048000,
      "rowLimit": 10000
     },
     "inputWidgets": {},
     "nuid": "c237bbd2-1297-4324-978f-18ad723e4f8b",
     "showTitle": false,
     "tableResultSettingsMap": {},
     "title": ""
    }
   },
   "outputs": [],
   "source": [
    "if spark.catalog.tableExists(f\"{catalog}.{target_schema}.{target_object}\"): \n",
    "    max_surrogate_key = spark.sql(f\"\"\"\n",
    "                            SELECT max({surrogate_key}) FROM {catalog}.{target_schema}.{target_object}\n",
    "                        \"\"\").collect()[0][0]\n",
    "    df_new_enr = df_new.withColumn(f'{surrogate_key}', lit(max_surrogate_key)+lit(1)+monotonically_increasing_id())\\\n",
    "                    .withColumn('create_date', current_timestamp())\\\n",
    "                    .withColumn('update_date', current_timestamp())    \n",
    "\n",
    "else:\n",
    "    max_surrogate_key = 0\n",
    "    df_new_enr = df_new.withColumn(f'{surrogate_key}', lit(max_surrogate_key)+lit(1)+monotonically_increasing_id())\\\n",
    "                    .withColumn('create_date', current_timestamp())\\\n",
    "                    .withColumn('update_date', current_timestamp())"
   ]
  },
  {
   "cell_type": "code",
   "execution_count": 0,
   "metadata": {
    "application/vnd.databricks.v1+cell": {
     "cellMetadata": {
      "byteLimit": 2048000,
      "rowLimit": 10000
     },
     "inputWidgets": {},
     "nuid": "fcd93697-d14a-42ce-8dcc-4bd7274087ca",
     "showTitle": false,
     "tableResultSettingsMap": {},
     "title": ""
    }
   },
   "outputs": [],
   "source": [
    "df_new_enr.display()"
   ]
  },
  {
   "cell_type": "markdown",
   "metadata": {
    "application/vnd.databricks.v1+cell": {
     "cellMetadata": {
      "byteLimit": 2048000,
      "rowLimit": 10000
     },
     "inputWidgets": {},
     "nuid": "e9de2541-fdaa-4e42-886a-4869de82e52d",
     "showTitle": false,
     "tableResultSettingsMap": {},
     "title": ""
    }
   },
   "source": [
    "## Union"
   ]
  },
  {
   "cell_type": "code",
   "execution_count": 0,
   "metadata": {
    "application/vnd.databricks.v1+cell": {
     "cellMetadata": {
      "byteLimit": 2048000,
      "rowLimit": 10000
     },
     "inputWidgets": {},
     "nuid": "b94f6ad6-6b00-49a4-840e-12bdbbded898",
     "showTitle": false,
     "tableResultSettingsMap": {},
     "title": ""
    }
   },
   "outputs": [],
   "source": [
    "df_union = df_old_enr.unionByName(df_new_enr)"
   ]
  },
  {
   "cell_type": "markdown",
   "metadata": {
    "application/vnd.databricks.v1+cell": {
     "cellMetadata": {
      "byteLimit": 2048000,
      "rowLimit": 10000
     },
     "inputWidgets": {},
     "nuid": "b8c41a08-0429-445c-9525-f7db9066d77c",
     "showTitle": false,
     "tableResultSettingsMap": {},
     "title": ""
    }
   },
   "source": [
    "## Upsert"
   ]
  },
  {
   "cell_type": "code",
   "execution_count": 0,
   "metadata": {
    "application/vnd.databricks.v1+cell": {
     "cellMetadata": {
      "byteLimit": 2048000,
      "rowLimit": 10000
     },
     "inputWidgets": {},
     "nuid": "b128823f-8d8f-47a7-9483-b96ede5cfafc",
     "showTitle": false,
     "tableResultSettingsMap": {},
     "title": ""
    }
   },
   "outputs": [],
   "source": [
    "from delta.tables import DeltaTable \n",
    "if spark.catalog.tableExists(f\"{catalog}.{target_schema}.{target_object}\"):\n",
    "\n",
    "    dlt_obj = DeltaTable.forName(spark, f\"{catalog}.{target_schema}.{target_object}\")\n",
    "    dlt_obj.alias(\"trg\").merge(df_union.alias(\"src\"), f\"trg.{surrogate_key} = src.{surrogate_key}\")\\\n",
    "                        .whenMatchedUpdateAll(condition = f\"src.{cdc_col} >= trg.{cdc_col}\")\\\n",
    "                        .whenNotMatchedInsertAll()\\\n",
    "                        .execute()\n",
    "\n",
    "else: \n",
    "\n",
    "    df_union.write.format(\"delta\")\\\n",
    "            .mode(\"append\")\\\n",
    "            .saveAsTable(f\"{catalog}.{target_schema}.{target_object}\")"
   ]
  },
  {
   "cell_type": "code",
   "execution_count": 0,
   "metadata": {
    "application/vnd.databricks.v1+cell": {
     "cellMetadata": {
      "byteLimit": 2048000,
      "implicitDf": true,
      "rowLimit": 10000
     },
     "inputWidgets": {},
     "nuid": "ea9fb5ec-898e-4124-9922-d8d8f007f1f6",
     "showTitle": false,
     "tableResultSettingsMap": {},
     "title": ""
    }
   },
   "outputs": [],
   "source": [
    "%sql\n",
    "select * from  workspace.gold.dimflights"
   ]
  },
  {
   "cell_type": "code",
   "execution_count": 0,
   "metadata": {
    "application/vnd.databricks.v1+cell": {
     "cellMetadata": {
      "byteLimit": 2048000,
      "rowLimit": 10000
     },
     "inputWidgets": {},
     "nuid": "4f0cccea-fe89-4d17-bc43-5db1513c6142",
     "showTitle": false,
     "tableResultSettingsMap": {},
     "title": ""
    }
   },
   "outputs": [],
   "source": []
  },
  {
   "cell_type": "code",
   "execution_count": 0,
   "metadata": {
    "application/vnd.databricks.v1+cell": {
     "cellMetadata": {
      "byteLimit": 2048000,
      "rowLimit": 10000
     },
     "inputWidgets": {},
     "nuid": "818525f0-88fb-4b04-b1cf-1b28c14b73c8",
     "showTitle": false,
     "tableResultSettingsMap": {},
     "title": ""
    }
   },
   "outputs": [],
   "source": []
  }
 ],
 "metadata": {
  "application/vnd.databricks.v1+notebook": {
   "computePreferences": null,
   "dashboards": [],
   "environmentMetadata": {
    "base_environment": "",
    "environment_version": "2"
   },
   "inputWidgetPreferences": null,
   "language": "python",
   "notebookMetadata": {
    "mostRecentlyExecutedCommandWithImplicitDF": {
     "commandId": 8698537381816540,
     "dataframes": [
      "_sqldf"
     ]
    },
    "pythonIndentUnit": 4
   },
   "notebookName": "Gold_dimentional",
   "widgets": {}
  },
  "language_info": {
   "name": "python"
  }
 },
 "nbformat": 4,
 "nbformat_minor": 0
}
